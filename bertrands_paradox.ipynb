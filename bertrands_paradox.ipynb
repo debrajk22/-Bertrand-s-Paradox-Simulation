{
 "cells": [
  {
   "cell_type": "code",
   "execution_count": 11,
   "metadata": {},
   "outputs": [],
   "source": [
    "import math\n",
    "import random"
   ]
  },
  {
   "cell_type": "code",
   "execution_count": 16,
   "metadata": {},
   "outputs": [],
   "source": [
    "def random_point_on_circle():        # returns a random point on the unit circle\n",
    "    theta = random.uniform(0, 2 * math.pi)\n",
    "    x = math.cos(theta)\n",
    "    y = math.sin(theta)\n",
    "    return (x, y)\n",
    "\n",
    "def random_point_in_circle():       # returns a random point inside the unit circle\n",
    "    x = random.uniform(-1, 1)\n",
    "    y = random.uniform(-math.sqrt(1 - x**2), math.sqrt(1 - x**2))\n",
    "    return (x, y)"
   ]
  },
  {
   "cell_type": "code",
   "execution_count": 17,
   "metadata": {},
   "outputs": [],
   "source": [
    "def bertrands_paradox_actual(num_trials): # code for the actual problem statement of the paradox that is length of the chord being greater than the side of the equilateral triangle\n",
    "    greater_count = 0\n",
    "\n",
    "    for i in range(num_trials):\n",
    "        point1 = random_point_on_circle()\n",
    "        point2 = random_point_on_circle()\n",
    "        length = math.sqrt((point1[0] - point2[0])**2 + (point1[1] - point2[1])**2)\n",
    "        if length > math.sqrt(3):\n",
    "            greater_count += 1\n",
    "\n",
    "    probability = greater_count / num_trials\n",
    "    print(\"Probability of the random chord being longer than the side of the inscribed equilateral triangle: \", probability)\n",
    "\n",
    "def bertrands_paradox_distance_of_midpt_from_centre(num_trials): # code for the distance of the midpoint of the chord being less than 0.5\n",
    "    greater_count = 0\n",
    "    for i in range(num_trials):\n",
    "        point = random_point_in_circle()\n",
    "        distance = math.sqrt(point[0]**2 + point[1]**2)\n",
    "        if distance < 0.5:\n",
    "            greater_count += 1\n",
    "\n",
    "    probability = greater_count / num_trials\n",
    "    print(\"Probability when the distance of the midpoint of the random chord being less than 0.5: \", probability)\n",
    "\n",
    "def bertrands_paradox_fixing_one_point(num_trials): # code for fixing one point and varying the other\n",
    "    greater_count = 0\n",
    "    for i in range(num_trials):\n",
    "        point1 = random_point_on_circle()\n",
    "        if point1[0] > 0.5:\n",
    "            greater_count += 1\n",
    "\n",
    "    probability = greater_count / num_trials\n",
    "    print(\"Probability when one point is fixed and other varies: \", probability)\n",
    "\n",
    "def bertrands_paradox_taking_parallel_lines(num_trials): # code for taking parallel lines and checking the probability of the chord being longer than the side of the equilateral triangle\n",
    "    greater_count = 0\n",
    "    for i in range(num_trials):\n",
    "        y = random.uniform(-1, 1)\n",
    "        if y < 0.5 and y > -0.5:\n",
    "            greater_count += 1\n",
    "\n",
    "    probability = greater_count / num_trials\n",
    "    print(\"Probability when the taking parallel chords: \", probability)"
   ]
  },
  {
   "cell_type": "code",
   "execution_count": 18,
   "metadata": {},
   "outputs": [
    {
     "name": "stdout",
     "output_type": "stream",
     "text": [
      "Probability of the random chord being longer than the side of the inscribed equilateral triangle:  0.333526\n",
      "Probability when the distance of the midpoint of the random chord being less than 0.5:  0.204134\n",
      "Probability when one point is fixed and other varies:  0.333504\n",
      "Probability when the taking parallel chords:  0.499714\n"
     ]
    }
   ],
   "source": [
    "num_trials = 1000000\n",
    "bertrands_paradox_actual(num_trials)\n",
    "bertrands_paradox_distance_of_midpt_from_centre(num_trials)\n",
    "bertrands_paradox_fixing_one_point(num_trials)\n",
    "bertrands_paradox_taking_parallel_lines(num_trials)"
   ]
  }
 ],
 "metadata": {
  "kernelspec": {
   "display_name": "Python 3",
   "language": "python",
   "name": "python3"
  },
  "language_info": {
   "codemirror_mode": {
    "name": "ipython",
    "version": 3
   },
   "file_extension": ".py",
   "mimetype": "text/x-python",
   "name": "python",
   "nbconvert_exporter": "python",
   "pygments_lexer": "ipython3",
   "version": "3.11.7"
  }
 },
 "nbformat": 4,
 "nbformat_minor": 2
}
